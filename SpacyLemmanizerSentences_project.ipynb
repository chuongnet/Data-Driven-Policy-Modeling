{
 "cells": [
  {
   "cell_type": "code",
   "execution_count": 1,
   "id": "bbf7b4ca",
   "metadata": {},
   "outputs": [],
   "source": [
    "import spacy\n",
    "from collections import defaultdict\n",
    "import numpy as np\n",
    "import libs.prepDataVisual as prep"
   ]
  },
  {
   "cell_type": "code",
   "execution_count": 2,
   "id": "81c0f1a6",
   "metadata": {},
   "outputs": [],
   "source": [
    "vocab = defaultdict(int)\n",
    "docs = prep.load_file('data/tokenized_sentences.txt').split('\\n')\n",
    "\n",
    "npl = spacy.load('en_core_web_sm')\n",
    "corpus = [npl(doc) for doc in docs]\n",
    "\n",
    "tokens = [[token.lemma_ for token in doc] for doc in corpus]\n",
    "\n",
    "for doc in tokens:\n",
    "    for token in doc:\n",
    "        vocab[token] += 1\n",
    "\n",
    "vocab = sorted(vocab.items(), key=lambda item: -item[1])\n",
    "# print(vocab)"
   ]
  },
  {
   "cell_type": "code",
   "execution_count": 3,
   "id": "f8d02b3d",
   "metadata": {},
   "outputs": [],
   "source": [
    "keys = [k for k, v in vocab]\n",
    "# keys"
   ]
  },
  {
   "cell_type": "code",
   "execution_count": 4,
   "id": "eaab457a",
   "metadata": {},
   "outputs": [],
   "source": [
    "keys = '\\n'.join(keys)\n",
    "# print(keys)\n",
    "prep.save_file('data/lemma_vocab.txt', keys)"
   ]
  },
  {
   "cell_type": "code",
   "execution_count": 5,
   "id": "7e014339",
   "metadata": {},
   "outputs": [],
   "source": [
    "sentences = [' '.join(doc) for doc in tokens]\n",
    "sentences = '\\n'.join(sentences)\n",
    "prep.save_file('data/lemma_tokenized_sentences.txt', sentences)"
   ]
  },
  {
   "cell_type": "code",
   "execution_count": null,
   "id": "9364ae3e",
   "metadata": {},
   "outputs": [],
   "source": []
  }
 ],
 "metadata": {
  "kernelspec": {
   "display_name": "Python 3",
   "language": "python",
   "name": "python3"
  },
  "language_info": {
   "codemirror_mode": {
    "name": "ipython",
    "version": 3
   },
   "file_extension": ".py",
   "mimetype": "text/x-python",
   "name": "python",
   "nbconvert_exporter": "python",
   "pygments_lexer": "ipython3",
   "version": "3.7.10"
  }
 },
 "nbformat": 4,
 "nbformat_minor": 5
}
